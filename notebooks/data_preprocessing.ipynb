{
 "cells": [
  {
   "cell_type": "code",
   "execution_count": 118,
   "metadata": {},
   "outputs": [],
   "source": [
    "# import necessarry libraries \n",
    "import numpy as np\n",
    "import pandas as pd\n",
    "import matplotlib.pyplot as plt\n",
    "import seaborn as sns"
   ]
  },
  {
   "cell_type": "code",
   "execution_count": 119,
   "metadata": {},
   "outputs": [],
   "source": [
    "# Add the parent directory to the system path\n",
    "import os \n",
    "import sys \n",
    "sys.path.append(os.path.abspath(os.path.join('..')))"
   ]
  },
  {
   "cell_type": "code",
   "execution_count": 120,
   "metadata": {},
   "outputs": [],
   "source": [
    "# importing modules from scripts\n",
    "import scripts.data_preprocessing as p"
   ]
  },
  {
   "cell_type": "code",
   "execution_count": 121,
   "metadata": {},
   "outputs": [],
   "source": [
    "# load mertteka telgram channel data\n",
    "df = pd.read_csv('../data/telegram_data.csv')"
   ]
  },
  {
   "cell_type": "code",
   "execution_count": 122,
   "metadata": {},
   "outputs": [
    {
     "data": {
      "text/html": [
       "<div>\n",
       "<style scoped>\n",
       "    .dataframe tbody tr th:only-of-type {\n",
       "        vertical-align: middle;\n",
       "    }\n",
       "\n",
       "    .dataframe tbody tr th {\n",
       "        vertical-align: top;\n",
       "    }\n",
       "\n",
       "    .dataframe thead th {\n",
       "        text-align: right;\n",
       "    }\n",
       "</style>\n",
       "<table border=\"1\" class=\"dataframe\">\n",
       "  <thead>\n",
       "    <tr style=\"text-align: right;\">\n",
       "      <th></th>\n",
       "      <th>Channel Title</th>\n",
       "      <th>Channel Username</th>\n",
       "      <th>ID</th>\n",
       "      <th>Message</th>\n",
       "      <th>Date</th>\n",
       "      <th>Media Path</th>\n",
       "    </tr>\n",
       "  </thead>\n",
       "  <tbody>\n",
       "    <tr>\n",
       "      <th>0</th>\n",
       "      <td>ምርጥ ዕቃ</td>\n",
       "      <td>@MerttEka</td>\n",
       "      <td>6805</td>\n",
       "      <td>📣 Car Aromatherapy Solar Vortex\\n\\n📎 ይሄንን👉 t.m...</td>\n",
       "      <td>2024-09-26 16:38:22+00:00</td>\n",
       "      <td>NaN</td>\n",
       "    </tr>\n",
       "    <tr>\n",
       "      <th>1</th>\n",
       "      <td>ምርጥ ዕቃ</td>\n",
       "      <td>@MerttEka</td>\n",
       "      <td>6804</td>\n",
       "      <td>NaN</td>\n",
       "      <td>2024-09-26 16:16:51+00:00</td>\n",
       "      <td>photos\\@MerttEka_6804.jpg</td>\n",
       "    </tr>\n",
       "    <tr>\n",
       "      <th>2</th>\n",
       "      <td>ምርጥ ዕቃ</td>\n",
       "      <td>@MerttEka</td>\n",
       "      <td>6803</td>\n",
       "      <td>NaN</td>\n",
       "      <td>2024-09-26 16:16:51+00:00</td>\n",
       "      <td>photos\\@MerttEka_6803.jpg</td>\n",
       "    </tr>\n",
       "    <tr>\n",
       "      <th>3</th>\n",
       "      <td>ምርጥ ዕቃ</td>\n",
       "      <td>@MerttEka</td>\n",
       "      <td>6802</td>\n",
       "      <td>📣 Car Aromatherapy Solar Vortex\\n\\n✔️ የመኪና መዓዛ...</td>\n",
       "      <td>2024-09-26 16:16:51+00:00</td>\n",
       "      <td>photos\\@MerttEka_6802.jpg</td>\n",
       "    </tr>\n",
       "    <tr>\n",
       "      <th>4</th>\n",
       "      <td>ምርጥ ዕቃ</td>\n",
       "      <td>@MerttEka</td>\n",
       "      <td>6801</td>\n",
       "      <td>🔠🔠🔠🔠 🔠🔠🔠🔠🔠\\n📣 GW HAIR DRYER/Blower\\n\\n✔️ የፀጉር ...</td>\n",
       "      <td>2024-09-26 12:31:45+00:00</td>\n",
       "      <td>photos\\@MerttEka_6801.jpg</td>\n",
       "    </tr>\n",
       "  </tbody>\n",
       "</table>\n",
       "</div>"
      ],
      "text/plain": [
       "  Channel Title Channel Username    ID  \\\n",
       "0        ምርጥ ዕቃ        @MerttEka  6805   \n",
       "1        ምርጥ ዕቃ        @MerttEka  6804   \n",
       "2        ምርጥ ዕቃ        @MerttEka  6803   \n",
       "3        ምርጥ ዕቃ        @MerttEka  6802   \n",
       "4        ምርጥ ዕቃ        @MerttEka  6801   \n",
       "\n",
       "                                             Message  \\\n",
       "0  📣 Car Aromatherapy Solar Vortex\\n\\n📎 ይሄንን👉 t.m...   \n",
       "1                                                NaN   \n",
       "2                                                NaN   \n",
       "3  📣 Car Aromatherapy Solar Vortex\\n\\n✔️ የመኪና መዓዛ...   \n",
       "4  🔠🔠🔠🔠 🔠🔠🔠🔠🔠\\n📣 GW HAIR DRYER/Blower\\n\\n✔️ የፀጉር ...   \n",
       "\n",
       "                        Date                 Media Path  \n",
       "0  2024-09-26 16:38:22+00:00                        NaN  \n",
       "1  2024-09-26 16:16:51+00:00  photos\\@MerttEka_6804.jpg  \n",
       "2  2024-09-26 16:16:51+00:00  photos\\@MerttEka_6803.jpg  \n",
       "3  2024-09-26 16:16:51+00:00  photos\\@MerttEka_6802.jpg  \n",
       "4  2024-09-26 12:31:45+00:00  photos\\@MerttEka_6801.jpg  "
      ]
     },
     "execution_count": 122,
     "metadata": {},
     "output_type": "execute_result"
    }
   ],
   "source": [
    "df.head()"
   ]
  },
  {
   "cell_type": "code",
   "execution_count": 123,
   "metadata": {},
   "outputs": [
    {
     "name": "stdout",
     "output_type": "stream",
     "text": [
      "Index(['Channel Title', 'Channel Username', 'ID', 'Message', 'Date',\n",
      "       'Media Path'],\n",
      "      dtype='object')\n"
     ]
    }
   ],
   "source": [
    "# List all columns in the dataset \n",
    "print(df.columns)"
   ]
  },
  {
   "cell_type": "code",
   "execution_count": 124,
   "metadata": {},
   "outputs": [
    {
     "data": {
      "text/plain": [
       "Channel Title       object\n",
       "Channel Username    object\n",
       "ID                   int64\n",
       "Message             object\n",
       "Date                object\n",
       "Media Path          object\n",
       "dtype: object"
      ]
     },
     "execution_count": 124,
     "metadata": {},
     "output_type": "execute_result"
    }
   ],
   "source": [
    "# Datastructure of each column \n",
    "df.dtypes"
   ]
  },
  {
   "cell_type": "markdown",
   "metadata": {},
   "source": [
    "### Data Quality Assesment "
   ]
  },
  {
   "cell_type": "code",
   "execution_count": 125,
   "metadata": {},
   "outputs": [
    {
     "name": "stdout",
     "output_type": "stream",
     "text": [
      "Numer of nan values in the df is                   Missing Values  % of Total Values Data Types\n",
      "Message                     1552              27.19     object\n",
      "Media Path                  1183              20.72     object\n",
      "Channel Username               0               0.00     object\n",
      "Channel Title                  0               0.00     object\n",
      "ID                             0               0.00      int64\n",
      "Date                           0               0.00     object\n"
     ]
    }
   ],
   "source": [
    "# check missing values\n",
    "nan_counts = p.check_missing_values(df)\n",
    "print(f\"Numer of nan values in the df is {nan_counts}\")"
   ]
  },
  {
   "cell_type": "code",
   "execution_count": 126,
   "metadata": {},
   "outputs": [
    {
     "name": "stdout",
     "output_type": "stream",
     "text": [
      "The dataset has 7.98% missing values.\n"
     ]
    }
   ],
   "source": [
    "# percentage of missing values \n",
    "p.caculate_missing_percentage(df)"
   ]
  },
  {
   "cell_type": "code",
   "execution_count": 127,
   "metadata": {},
   "outputs": [
    {
     "name": "stdout",
     "output_type": "stream",
     "text": [
      "Numer of duplicate rows: 0\n"
     ]
    }
   ],
   "source": [
    "# check for duplicate \n",
    "print(f\"Numer of duplicate rows: {df.duplicated().sum()}\")"
   ]
  },
  {
   "cell_type": "markdown",
   "metadata": {},
   "source": [
    "### Handling Missing values\n",
    "* for this analysis we will focus on message column\n",
    "* we will drop the missing rows in the message columns "
   ]
  },
  {
   "cell_type": "code",
   "execution_count": 128,
   "metadata": {},
   "outputs": [],
   "source": [
    "# Drop rows with missing values in the Message columns \n",
    "df = df.dropna(subset=['Message'])"
   ]
  },
  {
   "cell_type": "code",
   "execution_count": 129,
   "metadata": {},
   "outputs": [
    {
     "name": "stdout",
     "output_type": "stream",
     "text": [
      "Numer of NAN values in Message columns is 0\n"
     ]
    }
   ],
   "source": [
    "# confirm na is removed \n",
    "message_cleaned = df['Message'].isnull().sum()\n",
    "print(f\"Numer of NAN values in Message columns is {message_cleaned}\")"
   ]
  },
  {
   "cell_type": "code",
   "execution_count": 130,
   "metadata": {},
   "outputs": [
    {
     "name": "stdout",
     "output_type": "stream",
     "text": [
      "Data shape after droping the null values in the message column is (4157, 6)\n"
     ]
    }
   ],
   "source": [
    "# Data shape \n",
    "print(f\"Data shape after droping the null values in the message column is {df.shape}\")"
   ]
  },
  {
   "cell_type": "code",
   "execution_count": 131,
   "metadata": {},
   "outputs": [
    {
     "data": {
      "text/html": [
       "<div>\n",
       "<style scoped>\n",
       "    .dataframe tbody tr th:only-of-type {\n",
       "        vertical-align: middle;\n",
       "    }\n",
       "\n",
       "    .dataframe tbody tr th {\n",
       "        vertical-align: top;\n",
       "    }\n",
       "\n",
       "    .dataframe thead th {\n",
       "        text-align: right;\n",
       "    }\n",
       "</style>\n",
       "<table border=\"1\" class=\"dataframe\">\n",
       "  <thead>\n",
       "    <tr style=\"text-align: right;\">\n",
       "      <th></th>\n",
       "      <th>Channel Title</th>\n",
       "      <th>Channel Username</th>\n",
       "      <th>ID</th>\n",
       "      <th>Message</th>\n",
       "      <th>Date</th>\n",
       "      <th>Media Path</th>\n",
       "    </tr>\n",
       "  </thead>\n",
       "  <tbody>\n",
       "    <tr>\n",
       "      <th>0</th>\n",
       "      <td>ምርጥ ዕቃ</td>\n",
       "      <td>@MerttEka</td>\n",
       "      <td>6805</td>\n",
       "      <td>📣 Car Aromatherapy Solar Vortex\\n\\n📎 ይሄንን👉 t.m...</td>\n",
       "      <td>2024-09-26 16:38:22+00:00</td>\n",
       "      <td>NaN</td>\n",
       "    </tr>\n",
       "    <tr>\n",
       "      <th>3</th>\n",
       "      <td>ምርጥ ዕቃ</td>\n",
       "      <td>@MerttEka</td>\n",
       "      <td>6802</td>\n",
       "      <td>📣 Car Aromatherapy Solar Vortex\\n\\n✔️ የመኪና መዓዛ...</td>\n",
       "      <td>2024-09-26 16:16:51+00:00</td>\n",
       "      <td>photos\\@MerttEka_6802.jpg</td>\n",
       "    </tr>\n",
       "    <tr>\n",
       "      <th>4</th>\n",
       "      <td>ምርጥ ዕቃ</td>\n",
       "      <td>@MerttEka</td>\n",
       "      <td>6801</td>\n",
       "      <td>🔠🔠🔠🔠 🔠🔠🔠🔠🔠\\n📣 GW HAIR DRYER/Blower\\n\\n✔️ የፀጉር ...</td>\n",
       "      <td>2024-09-26 12:31:45+00:00</td>\n",
       "      <td>photos\\@MerttEka_6801.jpg</td>\n",
       "    </tr>\n",
       "    <tr>\n",
       "      <th>5</th>\n",
       "      <td>ምርጥ ዕቃ</td>\n",
       "      <td>@MerttEka</td>\n",
       "      <td>6800</td>\n",
       "      <td>📣 2 in 1 Porcelain  Dessert Bowel\\n\\n✔️ የሰላጣ እ...</td>\n",
       "      <td>2024-09-26 09:22:02+00:00</td>\n",
       "      <td>photos\\@MerttEka_6800.jpg</td>\n",
       "    </tr>\n",
       "    <tr>\n",
       "      <th>10</th>\n",
       "      <td>ምርጥ ዕቃ</td>\n",
       "      <td>@MerttEka</td>\n",
       "      <td>6795</td>\n",
       "      <td>📣 Plastic And Metal Cubic Cloth Cabinet\\n\\n✔️ ...</td>\n",
       "      <td>2024-09-26 08:31:44+00:00</td>\n",
       "      <td>photos\\@MerttEka_6795.jpg</td>\n",
       "    </tr>\n",
       "  </tbody>\n",
       "</table>\n",
       "</div>"
      ],
      "text/plain": [
       "   Channel Title Channel Username    ID  \\\n",
       "0         ምርጥ ዕቃ        @MerttEka  6805   \n",
       "3         ምርጥ ዕቃ        @MerttEka  6802   \n",
       "4         ምርጥ ዕቃ        @MerttEka  6801   \n",
       "5         ምርጥ ዕቃ        @MerttEka  6800   \n",
       "10        ምርጥ ዕቃ        @MerttEka  6795   \n",
       "\n",
       "                                              Message  \\\n",
       "0   📣 Car Aromatherapy Solar Vortex\\n\\n📎 ይሄንን👉 t.m...   \n",
       "3   📣 Car Aromatherapy Solar Vortex\\n\\n✔️ የመኪና መዓዛ...   \n",
       "4   🔠🔠🔠🔠 🔠🔠🔠🔠🔠\\n📣 GW HAIR DRYER/Blower\\n\\n✔️ የፀጉር ...   \n",
       "5   📣 2 in 1 Porcelain  Dessert Bowel\\n\\n✔️ የሰላጣ እ...   \n",
       "10  📣 Plastic And Metal Cubic Cloth Cabinet\\n\\n✔️ ...   \n",
       "\n",
       "                         Date                 Media Path  \n",
       "0   2024-09-26 16:38:22+00:00                        NaN  \n",
       "3   2024-09-26 16:16:51+00:00  photos\\@MerttEka_6802.jpg  \n",
       "4   2024-09-26 12:31:45+00:00  photos\\@MerttEka_6801.jpg  \n",
       "5   2024-09-26 09:22:02+00:00  photos\\@MerttEka_6800.jpg  \n",
       "10  2024-09-26 08:31:44+00:00  photos\\@MerttEka_6795.jpg  "
      ]
     },
     "execution_count": 131,
     "metadata": {},
     "output_type": "execute_result"
    }
   ],
   "source": [
    "df.head()"
   ]
  },
  {
   "cell_type": "markdown",
   "metadata": {},
   "source": [
    "Preprocess text data by tokenizing, normalizing, and handling Amharic-specific linguistic features."
   ]
  },
  {
   "cell_type": "code",
   "execution_count": 132,
   "metadata": {},
   "outputs": [
    {
     "name": "stdout",
     "output_type": "stream",
     "text": [
      "   Channel Title Channel Username    ID  \\\n",
      "0         ምርጥ ዕቃ        @MerttEka  6805   \n",
      "3         ምርጥ ዕቃ        @MerttEka  6802   \n",
      "4         ምርጥ ዕቃ        @MerttEka  6801   \n",
      "5         ምርጥ ዕቃ        @MerttEka  6800   \n",
      "10        ምርጥ ዕቃ        @MerttEka  6795   \n",
      "\n",
      "                                              Message  \\\n",
      "0                 \\n\\n ይሄንን ./  ተጭነው   ያድርጉ፣ ቤተሰብ ይሁኑ   \n",
      "3       \\n\\n የመኪና መዓዛ \\n በፀሃይ ብርሃን ስለሚሰራ ቻርጅ ማድረግ ...   \n",
      "4    \\n   /\\n\\n የፀጉር ማድረቂያ ፎን\\n6000watt በጣም ፈጣን\\nማ...   \n",
      "5    2  1    \\n\\n የሰላጣ እና የቺፕስ ማቅረቢያ\\n\\n 2400 ብር\\n...   \n",
      "10        \\n\\n ዘመናዊ የልብስ ቁም ሳጥን\\n በቀላሉ የሚገጣጠም የሚነቃ...   \n",
      "\n",
      "                         Date                 Media Path  \n",
      "0   2024-09-26 16:38:22+00:00                        NaN  \n",
      "3   2024-09-26 16:16:51+00:00  photos\\@MerttEka_6802.jpg  \n",
      "4   2024-09-26 12:31:45+00:00  photos\\@MerttEka_6801.jpg  \n",
      "5   2024-09-26 09:22:02+00:00  photos\\@MerttEka_6800.jpg  \n",
      "10  2024-09-26 08:31:44+00:00  photos\\@MerttEka_6795.jpg  \n"
     ]
    }
   ],
   "source": [
    "# Apply remove emoji function to the message column\n",
    "df['Message'] = df['Message'].apply(p.remove_emojis).apply(p.remove_english_words)\n",
    "\n",
    "# Display the cleaned dataframe \n",
    "print(df.head())"
   ]
  },
  {
   "cell_type": "code",
   "execution_count": 133,
   "metadata": {},
   "outputs": [],
   "source": [
    "# save the updated data to csv file \n",
    "df.to_csv('../data/cleaned_data.csv')"
   ]
  },
  {
   "cell_type": "code",
   "execution_count": 134,
   "metadata": {},
   "outputs": [
    {
     "data": {
      "text/html": [
       "<div>\n",
       "<style scoped>\n",
       "    .dataframe tbody tr th:only-of-type {\n",
       "        vertical-align: middle;\n",
       "    }\n",
       "\n",
       "    .dataframe tbody tr th {\n",
       "        vertical-align: top;\n",
       "    }\n",
       "\n",
       "    .dataframe thead th {\n",
       "        text-align: right;\n",
       "    }\n",
       "</style>\n",
       "<table border=\"1\" class=\"dataframe\">\n",
       "  <thead>\n",
       "    <tr style=\"text-align: right;\">\n",
       "      <th></th>\n",
       "      <th>Channel Title</th>\n",
       "      <th>Channel Username</th>\n",
       "      <th>ID</th>\n",
       "      <th>Message</th>\n",
       "      <th>Date</th>\n",
       "      <th>Media Path</th>\n",
       "    </tr>\n",
       "  </thead>\n",
       "  <tbody>\n",
       "    <tr>\n",
       "      <th>0</th>\n",
       "      <td>ምርጥ ዕቃ</td>\n",
       "      <td>@MerttEka</td>\n",
       "      <td>6805</td>\n",
       "      <td>\\n\\n ይሄንን ./  ተጭነው   ያድርጉ፣ ቤተሰብ ይሁኑ</td>\n",
       "      <td>2024-09-26 16:38:22+00:00</td>\n",
       "      <td>NaN</td>\n",
       "    </tr>\n",
       "    <tr>\n",
       "      <th>3</th>\n",
       "      <td>ምርጥ ዕቃ</td>\n",
       "      <td>@MerttEka</td>\n",
       "      <td>6802</td>\n",
       "      <td>\\n\\n የመኪና መዓዛ \\n በፀሃይ ብርሃን ስለሚሰራ ቻርጅ ማድረግ ...</td>\n",
       "      <td>2024-09-26 16:16:51+00:00</td>\n",
       "      <td>photos\\@MerttEka_6802.jpg</td>\n",
       "    </tr>\n",
       "    <tr>\n",
       "      <th>4</th>\n",
       "      <td>ምርጥ ዕቃ</td>\n",
       "      <td>@MerttEka</td>\n",
       "      <td>6801</td>\n",
       "      <td>\\n   /\\n\\n የፀጉር ማድረቂያ ፎን\\n6000watt በጣም ፈጣን\\nማ...</td>\n",
       "      <td>2024-09-26 12:31:45+00:00</td>\n",
       "      <td>photos\\@MerttEka_6801.jpg</td>\n",
       "    </tr>\n",
       "    <tr>\n",
       "      <th>5</th>\n",
       "      <td>ምርጥ ዕቃ</td>\n",
       "      <td>@MerttEka</td>\n",
       "      <td>6800</td>\n",
       "      <td>2  1    \\n\\n የሰላጣ እና የቺፕስ ማቅረቢያ\\n\\n 2400 ብር\\n...</td>\n",
       "      <td>2024-09-26 09:22:02+00:00</td>\n",
       "      <td>photos\\@MerttEka_6800.jpg</td>\n",
       "    </tr>\n",
       "    <tr>\n",
       "      <th>10</th>\n",
       "      <td>ምርጥ ዕቃ</td>\n",
       "      <td>@MerttEka</td>\n",
       "      <td>6795</td>\n",
       "      <td>\\n\\n ዘመናዊ የልብስ ቁም ሳጥን\\n በቀላሉ የሚገጣጠም የሚነቃ...</td>\n",
       "      <td>2024-09-26 08:31:44+00:00</td>\n",
       "      <td>photos\\@MerttEka_6795.jpg</td>\n",
       "    </tr>\n",
       "    <tr>\n",
       "      <th>...</th>\n",
       "      <td>...</td>\n",
       "      <td>...</td>\n",
       "      <td>...</td>\n",
       "      <td>...</td>\n",
       "      <td>...</td>\n",
       "      <td>...</td>\n",
       "    </tr>\n",
       "    <tr>\n",
       "      <th>5685</th>\n",
       "      <td>ምርጥ ዕቃ</td>\n",
       "      <td>@MerttEka</td>\n",
       "      <td>44</td>\n",
       "      <td>2500</td>\n",
       "      <td>2019-11-13 10:01:12+00:00</td>\n",
       "      <td>NaN</td>\n",
       "    </tr>\n",
       "    <tr>\n",
       "      <th>5686</th>\n",
       "      <td>ምርጥ ዕቃ</td>\n",
       "      <td>@MerttEka</td>\n",
       "      <td>43</td>\n",
       "      <td>ዋጋ 2500\\n0983063957</td>\n",
       "      <td>2019-11-13 10:00:40+00:00</td>\n",
       "      <td>NaN</td>\n",
       "    </tr>\n",
       "    <tr>\n",
       "      <th>5690</th>\n",
       "      <td>ምርጥ ዕቃ</td>\n",
       "      <td>@MerttEka</td>\n",
       "      <td>32</td>\n",
       "      <td>የሙያ ባለቤት መሆን መሠልጠን ነው።\\nቀለም ቀቢ ሳያስፈልግዎ ቤትዎን ወይ...</td>\n",
       "      <td>2019-11-09 04:44:54+00:00</td>\n",
       "      <td>NaN</td>\n",
       "    </tr>\n",
       "    <tr>\n",
       "      <th>5692</th>\n",
       "      <td>ምርጥ ዕቃ</td>\n",
       "      <td>@MerttEka</td>\n",
       "      <td>30</td>\n",
       "      <td>ቤትና ግቢዎን እንዲሁም የብረት እና የእንጨት ቁሳቁስዎን ቀለም ቀቢ ሳያስ...</td>\n",
       "      <td>2019-10-31 07:06:25+00:00</td>\n",
       "      <td>NaN</td>\n",
       "    </tr>\n",
       "    <tr>\n",
       "      <th>5695</th>\n",
       "      <td>ምርጥ ዕቃ</td>\n",
       "      <td>@MerttEka</td>\n",
       "      <td>23</td>\n",
       "      <td>ለማዘዝ\\n ://.</td>\n",
       "      <td>2019-10-27 13:38:49+00:00</td>\n",
       "      <td>NaN</td>\n",
       "    </tr>\n",
       "  </tbody>\n",
       "</table>\n",
       "<p>4157 rows × 6 columns</p>\n",
       "</div>"
      ],
      "text/plain": [
       "     Channel Title Channel Username    ID  \\\n",
       "0           ምርጥ ዕቃ        @MerttEka  6805   \n",
       "3           ምርጥ ዕቃ        @MerttEka  6802   \n",
       "4           ምርጥ ዕቃ        @MerttEka  6801   \n",
       "5           ምርጥ ዕቃ        @MerttEka  6800   \n",
       "10          ምርጥ ዕቃ        @MerttEka  6795   \n",
       "...            ...              ...   ...   \n",
       "5685        ምርጥ ዕቃ        @MerttEka    44   \n",
       "5686        ምርጥ ዕቃ        @MerttEka    43   \n",
       "5690        ምርጥ ዕቃ        @MerttEka    32   \n",
       "5692        ምርጥ ዕቃ        @MerttEka    30   \n",
       "5695        ምርጥ ዕቃ        @MerttEka    23   \n",
       "\n",
       "                                                Message  \\\n",
       "0                   \\n\\n ይሄንን ./  ተጭነው   ያድርጉ፣ ቤተሰብ ይሁኑ   \n",
       "3         \\n\\n የመኪና መዓዛ \\n በፀሃይ ብርሃን ስለሚሰራ ቻርጅ ማድረግ ...   \n",
       "4      \\n   /\\n\\n የፀጉር ማድረቂያ ፎን\\n6000watt በጣም ፈጣን\\nማ...   \n",
       "5      2  1    \\n\\n የሰላጣ እና የቺፕስ ማቅረቢያ\\n\\n 2400 ብር\\n...   \n",
       "10          \\n\\n ዘመናዊ የልብስ ቁም ሳጥን\\n በቀላሉ የሚገጣጠም የሚነቃ...   \n",
       "...                                                 ...   \n",
       "5685                                               2500   \n",
       "5686                                ዋጋ 2500\\n0983063957   \n",
       "5690  የሙያ ባለቤት መሆን መሠልጠን ነው።\\nቀለም ቀቢ ሳያስፈልግዎ ቤትዎን ወይ...   \n",
       "5692  ቤትና ግቢዎን እንዲሁም የብረት እና የእንጨት ቁሳቁስዎን ቀለም ቀቢ ሳያስ...   \n",
       "5695                                        ለማዘዝ\\n ://.   \n",
       "\n",
       "                           Date                 Media Path  \n",
       "0     2024-09-26 16:38:22+00:00                        NaN  \n",
       "3     2024-09-26 16:16:51+00:00  photos\\@MerttEka_6802.jpg  \n",
       "4     2024-09-26 12:31:45+00:00  photos\\@MerttEka_6801.jpg  \n",
       "5     2024-09-26 09:22:02+00:00  photos\\@MerttEka_6800.jpg  \n",
       "10    2024-09-26 08:31:44+00:00  photos\\@MerttEka_6795.jpg  \n",
       "...                         ...                        ...  \n",
       "5685  2019-11-13 10:01:12+00:00                        NaN  \n",
       "5686  2019-11-13 10:00:40+00:00                        NaN  \n",
       "5690  2019-11-09 04:44:54+00:00                        NaN  \n",
       "5692  2019-10-31 07:06:25+00:00                        NaN  \n",
       "5695  2019-10-27 13:38:49+00:00                        NaN  \n",
       "\n",
       "[4157 rows x 6 columns]"
      ]
     },
     "execution_count": 134,
     "metadata": {},
     "output_type": "execute_result"
    }
   ],
   "source": [
    "df"
   ]
  },
  {
   "cell_type": "code",
   "execution_count": 135,
   "metadata": {},
   "outputs": [
    {
     "data": {
      "text/plain": [
       "0                   \\n\\n ይሄንን ./  ተጭነው   ያድርጉ፣ ቤተሰብ ይሁኑ\n",
       "3         \\n\\n የመኪና መዓዛ \\n በፀሃይ ብርሃን ስለሚሰራ ቻርጅ ማድረግ ...\n",
       "4      \\n   /\\n\\n የፀጉር ማድረቂያ ፎን\\n6000watt በጣም ፈጣን\\nማ...\n",
       "5      2  1    \\n\\n የሰላጣ እና የቺፕስ ማቅረቢያ\\n\\n 2400 ብር\\n...\n",
       "10          \\n\\n ዘመናዊ የልብስ ቁም ሳጥን\\n በቀላሉ የሚገጣጠም የሚነቃ...\n",
       "Name: Message, dtype: object"
      ]
     },
     "execution_count": 135,
     "metadata": {},
     "output_type": "execute_result"
    }
   ],
   "source": [
    "df['Message'].head()"
   ]
  }
 ],
 "metadata": {
  "kernelspec": {
   "display_name": "venv",
   "language": "python",
   "name": "python3"
  },
  "language_info": {
   "codemirror_mode": {
    "name": "ipython",
    "version": 3
   },
   "file_extension": ".py",
   "mimetype": "text/x-python",
   "name": "python",
   "nbconvert_exporter": "python",
   "pygments_lexer": "ipython3",
   "version": "3.12.5"
  }
 },
 "nbformat": 4,
 "nbformat_minor": 2
}
